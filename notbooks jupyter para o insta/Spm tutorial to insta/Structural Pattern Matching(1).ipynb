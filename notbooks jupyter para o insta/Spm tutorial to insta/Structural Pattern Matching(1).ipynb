{
 "cells": [
  {
   "cell_type": "markdown",
   "id": "b5cf3e0c",
   "metadata": {},
   "source": [
    "# Tutorial Match Case"
   ]
  },
  {
   "cell_type": "markdown",
   "id": "13014840",
   "metadata": {},
   "source": [
    "#### Correspondência de Padrões Estruturais \n",
    "####                              ou\n",
    "#### Structural Pattern Matching"
   ]
  },
  {
   "cell_type": "code",
   "execution_count": null,
   "id": "16c54da3",
   "metadata": {
    "is_executing": true
   },
   "outputs": [],
   "source": [
    "valor = True\n",
    "\n",
    "valores = {\n",
    "    \"s\":\"string s\",\n",
    "    True:\"verdadeiro\",\n",
    "    10:\"valor 10\"\n",
    "}\n",
    "\n",
    "if valor in valores:\n",
    "    print(valores[valor])\n",
    "else:\n",
    "    print(\"O valor não está contido no dict\")\n"
   ]
  },
  {
   "cell_type": "code",
   "execution_count": null,
   "id": "8149b2d1",
   "metadata": {},
   "outputs": [],
   "source": [
    "if valor == alguma coisa:\n",
    "   faça algo\n",
    "elif valor == outra coisa:\n",
    "   faça outra coisa.\n",
    "else:\n",
    "   há algo de errado\n"
   ]
  },
  {
   "cell_type": "markdown",
   "id": "71e5badd",
   "metadata": {},
   "source": [
    "### Sintaxe:"
   ]
  },
  {
   "cell_type": "markdown",
   "id": "b1f51a97",
   "metadata": {},
   "source": [
    "match valor:\n",
    "    pattern1 => expressao1\n",
    "    pattern2 => expressao2\n",
    "    ...\n",
    "    patternN => expressaoN"
   ]
  },
  {
   "cell_type": "code",
   "execution_count": null,
   "id": "c78f8d84",
   "metadata": {
    "is_executing": true
   },
   "outputs": [],
   "source": [
    "valor = (69, 98, 87)\n",
    "# valor = [1, 2]\n",
    "# valor = \"s\"\n",
    "\n",
    "match valor:\n",
    "    case (x, y, z):\n",
    "        print(f'O valor é uma tupla com os elementos,\\nsendo {x= }, {y= } e {z= }.')\n",
    "    case [x, y]:\n",
    "        print(f\"O valor é uma lista com os elementos {x} e {y}.\")\n",
    "    case s if isinstance(s, str):\n",
    "        print(f\"O valor é uma string: {s}\")\n",
    "    case _:\n",
    "        print(\"O valor não corresponde a nenhum dos padrões anteriores.\")\n"
   ]
  },
  {
   "cell_type": "code",
   "execution_count": null,
   "id": "811dfe32",
   "metadata": {},
   "outputs": [],
   "source": [
    "valor = []\n",
    "# valor = [1]\n",
    "# valor [69, 2, 3, 4, 5]\n",
    "# valor = [1, 2, 3]\n",
    "# valor = [5,6,7,8]\n",
    "# valor = [59,19,20]\n",
    "\n",
    "match valor:\n",
    "    case [] | [_]:\n",
    "        print(\"É uma lista vazia ou somente com um elemento.\")\n",
    "    case [69, *resto]:\n",
    "        print(f\"O valor é uma lista com um elemento 69, e o {resto= }\")\n",
    "    case [x, y, z, i]:\n",
    "        print(f'É uma lista com 4 elementos, iniciando com {x}, seguido por {y,z,i}')\n",
    "    case [59, _, _] | [_, _, _] | [_, 19, _]:\n",
    "        print(\"A lista começa com 59, ou tem a Len igual a três, ou possui o numero 19 no índice 1 \")\n",
    "    case _:\n",
    "        print(\"O valor não corresponde a nenhum dos padrões anteriores.\")\n"
   ]
  },
  {
   "cell_type": "code",
   "execution_count": null,
   "id": "6ad99b80",
   "metadata": {},
   "outputs": [],
   "source": [
    "# Comparação com Protocolo de Sequência:\n",
    "lista = []\n",
    "match lista:\n",
    "    case [] | [_]:\n",
    "        print(\"É uma lista vazia ou somente com um elemento.\")\n",
    "        \n",
    "# para utilizarmos esse mesmo raciocínio lógico Com P.S\n",
    "\n",
    "if len(lista) == 0 or len(lista) == 1:\n",
    "    print(\"faça algo\")\n",
    "\n",
    "lista = [1,2,3]\n",
    "match lista:\n",
    "    case [_,2,_] | [_,_,_]:\n",
    "        print(\"É uma lista vazia ou somente com um elemento.\")   \n",
    "    \n",
    "if lista[1] == 2 or len(lista) == 3:\n",
    "    print(\"Protocolo Utiliza mais tempo.\")\n"
   ]
  }
 ],
 "metadata": {
  "kernelspec": {
   "display_name": "Python 3 (ipykernel)",
   "language": "python",
   "name": "python3"
  },
  "language_info": {
   "codemirror_mode": {
    "name": "ipython",
    "version": 3
   },
   "file_extension": ".py",
   "mimetype": "text/x-python",
   "name": "python",
   "nbconvert_exporter": "python",
   "pygments_lexer": "ipython3",
   "version": "3.9.13"
  }
 },
 "nbformat": 4,
 "nbformat_minor": 5
}
