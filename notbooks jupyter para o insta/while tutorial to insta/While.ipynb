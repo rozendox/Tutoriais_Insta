{
 "cells": [
  {
   "cell_type": "markdown",
   "id": "9097e8ca",
   "metadata": {},
   "source": [
    "# Tutorial de Flow Control\n",
    "## While loop"
   ]
  },
  {
   "cell_type": "markdown",
   "id": "286bdb09",
   "metadata": {},
   "source": [
    "### |-----------------------------------------------------------------------------------------------------------------------------------------------|\n"
   ]
  },
  {
   "cell_type": "markdown",
   "id": "06a8abbd",
   "metadata": {},
   "source": [
    "#### Introdução ao laço de repetição while"
   ]
  },
  {
   "cell_type": "markdown",
   "id": "d86e193b",
   "metadata": {},
   "source": [
    "É uma estrutura de controle que permite executar um bloco de código repetidamente enquanto uma condição especificada for verdadeira.\n",
    "Ele verifica a condição antes de cada iteração, e caso a condição seja verdadeira, o bloco de código é executado."
   ]
  },
  {
   "cell_type": "markdown",
   "id": "bbe9752f",
   "metadata": {},
   "source": [
    "### |-----------------------------------------------------------------------------------------------------------------------------------------------|"
   ]
  },
  {
   "cell_type": "markdown",
   "id": "58e8aa20",
   "metadata": {},
   "source": [
    "# Sintaxe\n"
   ]
  },
  {
   "cell_type": "code",
   "execution_count": null,
   "id": "f44b7133",
   "metadata": {},
   "outputs": [],
   "source": [
    "while condição: #Condição verdadeira.\n",
    "    pass\n",
    "    # Bloco de código a ser repetido\n",
    "\n",
    "    \n",
    "    # É importante lembrar que:\n",
    "    # Sempre criar uma condição dentro do bloco de código para evitar loops infinitos"
   ]
  },
  {
   "cell_type": "markdown",
   "id": "cdde74eb",
   "metadata": {},
   "source": [
    "### |-----------------------------------------------------------------------------------------------------------------------------------------------|"
   ]
  },
  {
   "cell_type": "markdown",
   "id": "c9be653f",
   "metadata": {},
   "source": [
    "## Exemplo prático de um laço while em Python"
   ]
  },
  {
   "cell_type": "code",
   "execution_count": null,
   "id": "5aecfc49",
   "metadata": {
    "is_executing": true
   },
   "outputs": [],
   "source": [
    "contador = 1\n",
    "while contador <= 5:\n",
    "    print(contador)\n",
    "    contador += 1"
   ]
  },
  {
   "cell_type": "markdown",
   "id": "f4747058",
   "metadata": {},
   "source": [
    "### |-----------------------------------------------------------------------------------------------------------------------------------------------|"
   ]
  },
  {
   "cell_type": "markdown",
   "id": "ff214fce",
   "metadata": {},
   "source": [
    "### Exemplo 2 -\n",
    "#### Soma de dois numeros pares"
   ]
  },
  {
   "cell_type": "code",
   "execution_count": null,
   "id": "e3b11e32",
   "metadata": {},
   "outputs": [],
   "source": [
    "num = 1\n",
    "soma = 0\n",
    "\n",
    "while num <= 10:\n",
    "    if num % 2 != 0:\n",
    "        num += 1\n",
    "        continue\n",
    "    soma += num\n",
    "    num += 1\n",
    "\n",
    "print(\"A soma dos números pares de 1 a 10 é:\", soma)\n"
   ]
  },
  {
   "cell_type": "markdown",
   "id": "d9513f84",
   "metadata": {},
   "source": [
    "### Exemplo 3 -\n",
    "#### Adinhar o número."
   ]
  },
  {
   "cell_type": "code",
   "execution_count": null,
   "id": "6fbf9e30",
   "metadata": {},
   "outputs": [],
   "source": [
    "import random\n",
    "\n",
    "numero_aleatorio = random.randint(1, 100)\n",
    "\n",
    "while True:\n",
    "    palpite = int(input(\"Adivinhe o número (1-100): \"))\n",
    "\n",
    "    if palpite < numero_aleatorio:\n",
    "        print(\"Número muito baixo. Tente novamente.\")\n",
    "    elif palpite > numero_aleatorio:\n",
    "        print(\"Número muito alto. Tente novamente.\")\n",
    "    else:\n",
    "        print(\"Parabéns! Você acertou o número!\")\n",
    "        break\n"
   ]
  },
  {
   "cell_type": "markdown",
   "id": "86aa18dd",
   "metadata": {},
   "source": [
    "### Exemplo 4 -\n",
    "#### Validação de entrada."
   ]
  },
  {
   "cell_type": "code",
   "execution_count": null,
   "id": "aa6aa8f0",
   "metadata": {},
   "outputs": [],
   "source": [
    "while True:\n",
    "    entrada = int(input(\"Digite um número entre 1 e 10: \"))\n",
    "\n",
    "    if entrada < 1 or entrada > 10:\n",
    "        print(\"Número inválido. Tente novamente.\")\n",
    "        continue\n",
    "\n",
    "    print(\"Número válido:\", entrada)\n",
    "    break\n"
   ]
  },
  {
   "cell_type": "markdown",
   "source": [
    "### Exemplo 5 -\n",
    "#### Loop infinito."
   ],
   "metadata": {
    "collapsed": false
   }
  },
  {
   "cell_type": "code",
   "execution_count": null,
   "outputs": [],
   "source": [
    "while True:\n",
    "    print(\"Este é um loop infinito!\")\n"
   ],
   "metadata": {
    "collapsed": false
   }
  },
  {
   "cell_type": "code",
   "execution_count": null,
   "outputs": [],
   "source": [
    "num = 0\n",
    "while True:\n",
    "    num += 1\n",
    "    print(num)\n"
   ],
   "metadata": {
    "collapsed": false
   }
  }
 ],
 "metadata": {
  "kernelspec": {
   "display_name": "Python 3 (ipykernel)",
   "language": "python",
   "name": "python3"
  },
  "language_info": {
   "codemirror_mode": {
    "name": "ipython",
    "version": 3
   },
   "file_extension": ".py",
   "mimetype": "text/x-python",
   "name": "python",
   "nbconvert_exporter": "python",
   "pygments_lexer": "ipython3",
   "version": "3.9.13"
  }
 },
 "nbformat": 4,
 "nbformat_minor": 5
}
